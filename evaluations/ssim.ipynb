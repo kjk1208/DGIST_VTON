{
 "cells": [
  {
   "cell_type": "code",
   "execution_count": 18,
   "metadata": {},
   "outputs": [],
   "source": [
    "import cv2 as cv\n",
    "import numpy as np\n",
    "\n",
    "import os\n",
    "import os.path as osp\n",
    "\n",
    "from tqdm import tqdm"
   ]
  },
  {
   "cell_type": "markdown",
   "metadata": {},
   "source": [
    "# SSIM\n",
    "\n",
    "$ {\\rm SSIM}(x, y) = {(2\\mu_x \\mu_y + c_1)(2\\sigma_{xy} + c_2) \\over (\\mu_x^2 + \\mu_y^2 + c_1)(\\sigma_x^2 + \\sigma_y^2 + c_2)} $\n",
    "\n",
    "where, $L=255$ for grayscale images,\n",
    "\n",
    "$ c_1 = (0.01L)^2 $\n",
    "\n",
    "$ c_2 = (0.03L)^2 $ is commonly used"
   ]
  },
  {
   "cell_type": "code",
   "execution_count": 19,
   "metadata": {},
   "outputs": [],
   "source": [
    "def ssim(X, Y):\n",
    "    mu_x = X.mean()\n",
    "    mu_y = Y.mean()\n",
    "    var_x = X.var()\n",
    "    var_y = Y.var()\n",
    "    sigma_xy = np.cov(X.flatten(), Y.flatten())[0, 1]\n",
    "\n",
    "    L = 255\n",
    "    c1 = (0.01 * L) ** 2\n",
    "    c2 = (0.03 * L) ** 2\n",
    "\n",
    "    s1 = (2 * mu_x * mu_y + c1) / (mu_x**2 + mu_y**2 + c1)\n",
    "    s2 = (2 * sigma_xy + c2) / (var_x + var_y + c2)\n",
    "\n",
    "    SSIM = s1 * s2\n",
    "    return SSIM"
   ]
  },
  {
   "cell_type": "code",
   "execution_count": 20,
   "metadata": {},
   "outputs": [
    {
     "name": "stdout",
     "output_type": "stream",
     "text": [
      "# of images: 2032\n",
      "output image shape: (384, 512)\n"
     ]
    }
   ],
   "source": [
    "#user input\n",
    "output_dir = '../inference/20250131_Base/999epoch/repaint/pair/'\n",
    "gt_dir = '../DATA/VITON-HD/test/image/'\n",
    "#user input\n",
    "\n",
    "output_image_list = os.listdir(output_dir)\n",
    "h_out, w_out = cv.imread(osp.join(output_dir, output_image_list[0])).shape[:2]\n",
    "\n",
    "print('# of images:', len(output_image_list))\n",
    "print('output image shape:', (w_out, h_out))"
   ]
  },
  {
   "cell_type": "code",
   "execution_count": 21,
   "metadata": {},
   "outputs": [
    {
     "name": "stderr",
     "output_type": "stream",
     "text": [
      "100%|██████████| 2032/2032 [00:27<00:00, 74.37it/s]\n"
     ]
    }
   ],
   "source": [
    "s_list = []\n",
    "\n",
    "for f in tqdm(output_image_list):\n",
    "    image_out = cv.imread(osp.join(output_dir, f), cv.IMREAD_GRAYSCALE)\n",
    "    image_gt = cv.imread(osp.join(gt_dir, f[-12:]), cv.IMREAD_GRAYSCALE) # len('00000_00.jpg') == 12\n",
    "    image_gt = cv.resize(image_gt, (w_out, h_out))\n",
    "    \n",
    "    s = ssim(image_out, image_gt)\n",
    "    s_list.append(s)\n",
    "\n",
    "s_arr = np.array(s_list)"
   ]
  },
  {
   "cell_type": "code",
   "execution_count": 22,
   "metadata": {},
   "outputs": [
    {
     "name": "stdout",
     "output_type": "stream",
     "text": [
      "------ 20241111 KCL test ------\n",
      "[SSIM]\n",
      "mean, std: 0.958, 0.050\n",
      "min, max: 0.569, 0.998\n"
     ]
    }
   ],
   "source": [
    "print('------ 20241111 KCL test ------')\n",
    "print('[SSIM]')\n",
    "\n",
    "print(f'mean, std: {s_arr.mean():.3f}, {s_arr.std():.3f}')\n",
    "print(f'min, max: {s_arr.min():.3f}, {s_arr.max():.3f}')"
   ]
  }
 ],
 "metadata": {
  "kernelspec": {
   "display_name": "DGIST_VTON",
   "language": "python",
   "name": "python3"
  },
  "language_info": {
   "codemirror_mode": {
    "name": "ipython",
    "version": 3
   },
   "file_extension": ".py",
   "mimetype": "text/x-python",
   "name": "python",
   "nbconvert_exporter": "python",
   "pygments_lexer": "ipython3",
   "version": "3.10.14"
  }
 },
 "nbformat": 4,
 "nbformat_minor": 2
}
